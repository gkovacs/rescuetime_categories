{
 "cells": [
  {
   "cell_type": "code",
   "execution_count": 5,
   "metadata": {
    "collapsed": false
   },
   "outputs": [],
   "source": [
    "import ujson as json\n",
    "import msgpack\n",
    "\n",
    "domain_list = json.load(open('domains_list.json'))\n",
    "domain_id_to_category = json.load(open('domain_id_to_category.json'))\n",
    "domain_id_to_productivity = json.load(open('domain_id_to_productivity.json'))\n",
    "\n",
    "domain_to_category = {domain_list[int(k)]:v for k,v in enumerate(domain_id_to_category)}\n",
    "domain_to_productivity = {domain_list[int(k)]:v for k,v in enumerate(domain_id_to_productivity)}\n",
    "\n",
    "json.dump(domain_to_category, open('domain_to_category.json', 'w'))\n",
    "json.dump(domain_to_productivity, open('domain_to_productivity.json', 'w'))\n",
    "\n",
    "msgpack.dump(domain_to_category, open('domain_to_category.msgpack', 'w'))\n",
    "msgpack.dump(domain_to_productivity, open('domain_to_productivity.msgpack', 'w'))\n",
    "\n"
   ]
  }
 ],
 "metadata": {
  "kernelspec": {
   "display_name": "Python 2",
   "language": "python",
   "name": "python2"
  },
  "language_info": {
   "codemirror_mode": {
    "name": "ipython",
    "version": 2
   },
   "file_extension": ".py",
   "mimetype": "text/x-python",
   "name": "python",
   "nbconvert_exporter": "python",
   "pygments_lexer": "ipython2",
   "version": "2.7.11"
  }
 },
 "nbformat": 4,
 "nbformat_minor": 0
}

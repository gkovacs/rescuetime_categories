{
 "cells": [
  {
   "cell_type": "code",
   "execution_count": 2,
   "metadata": {},
   "outputs": [],
   "source": [
    "import ujson as json\n",
    "import msgpack\n",
    "\n",
    "domain_list = json.load(open('domains_list.json'))\n",
    "domain_id_to_category = json.load(open('domain_id_to_category.json'))\n",
    "domain_id_to_productivity = json.load(open('domain_id_to_productivity.json'))\n",
    "\n",
    "domain_to_category = {domain_list[int(k)]:v for k,v in enumerate(domain_id_to_category)}\n",
    "domain_to_productivity = {domain_list[int(k)]:v for k,v in enumerate(domain_id_to_productivity)}\n",
    "\n",
    "unproductive_domains = [domain_list[int(k)] for k,v in enumerate(domain_id_to_productivity) if v < 0]\n",
    "#print(len(unproductive_domains))\n",
    "\n",
    "json.dump(unproductive_domains, open('unproductive_domains.json', 'w'))\n"
   ]
  }
 ],
 "metadata": {
  "kernelspec": {
   "display_name": "Python 3",
   "language": "python",
   "name": "python3"
  },
  "language_info": {
   "codemirror_mode": {
    "name": "ipython",
    "version": 3
   },
   "file_extension": ".py",
   "mimetype": "text/x-python",
   "name": "python",
   "nbconvert_exporter": "python",
   "pygments_lexer": "ipython3",
   "version": "3.6.4"
  }
 },
 "nbformat": 4,
 "nbformat_minor": 2
}
